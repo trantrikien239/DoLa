{
 "cells": [
  {
   "cell_type": "code",
   "execution_count": 8,
   "metadata": {},
   "outputs": [],
   "source": [
    "import json\n",
    "import pandas as pd"
   ]
  },
  {
   "cell_type": "code",
   "execution_count": 5,
   "metadata": {},
   "outputs": [],
   "source": [
    "tasks = ['mc1', 'mc2', 'mc3']"
   ]
  },
  {
   "cell_type": "code",
   "execution_count": 6,
   "metadata": {},
   "outputs": [
    {
     "name": "stdout",
     "output_type": "stream",
     "text": [
      "dict_keys(['question', 'model_scores', 'total_mc1', 'total_mc2', 'total_mc3'])\n",
      "total_mc1 0.2558139534883721\n",
      "total_mc2 0.405513286902443\n",
      "total_mc3 0.19196149287948555\n"
     ]
    }
   ],
   "source": [
    "llama1_base_path = \"output-path-tfmc-baseline-llama-1.json\"\n",
    "# Read json files\n",
    "with open(llama1_base_path) as f:\n",
    "    llama1_base = json.load(f)\n",
    "print(llama1_base.keys())\n",
    "for task in tasks:\n",
    "    print(f'total_{task}',llama1_base[f'total_{task}'])"
   ]
  },
  {
   "cell_type": "code",
   "execution_count": 17,
   "metadata": {},
   "outputs": [],
   "source": [
    "configs = {\n",
    "    (\"llama-1\", \"baseline\"): \"output-path-tfmc-baseline-llama-1.json\",\n",
    "    (\"llama-2\", \"baseline\"): \"output-path-tfmc-baseline-llama-2.json\",\n",
    "    (\"llama-1\", \"dola\"): \"output-path-tfqamc-dola-llama-1.json\",\n",
    "    (\"llama-2\", \"dola\"): \"output-path-tfqamc-dola-llama-2.json\",\n",
    "}"
   ]
  },
  {
   "cell_type": "code",
   "execution_count": 18,
   "metadata": {},
   "outputs": [],
   "source": [
    "df = pd.DataFrame(columns=[\"approach\", \"model\", \"mc1\", \"mc2\", \"mc3\"])"
   ]
  },
  {
   "cell_type": "code",
   "execution_count": 19,
   "metadata": {},
   "outputs": [],
   "source": [
    "# 0.3219094247246022, 0.6376102627871721, 0.3213809718093689\n"
   ]
  },
  {
   "cell_type": "code",
   "execution_count": 20,
   "metadata": {},
   "outputs": [
    {
     "name": "stderr",
     "output_type": "stream",
     "text": [
      "/var/folders/yh/0ppzrrgs7m77v8rxlkjbf2540000gn/T/ipykernel_30945/2524999959.py:4: FutureWarning: The frame.append method is deprecated and will be removed from pandas in a future version. Use pandas.concat instead.\n",
      "  df = df.append(\n",
      "/var/folders/yh/0ppzrrgs7m77v8rxlkjbf2540000gn/T/ipykernel_30945/2524999959.py:4: FutureWarning: The frame.append method is deprecated and will be removed from pandas in a future version. Use pandas.concat instead.\n",
      "  df = df.append(\n",
      "/var/folders/yh/0ppzrrgs7m77v8rxlkjbf2540000gn/T/ipykernel_30945/2524999959.py:4: FutureWarning: The frame.append method is deprecated and will be removed from pandas in a future version. Use pandas.concat instead.\n",
      "  df = df.append(\n",
      "/var/folders/yh/0ppzrrgs7m77v8rxlkjbf2540000gn/T/ipykernel_30945/2524999959.py:4: FutureWarning: The frame.append method is deprecated and will be removed from pandas in a future version. Use pandas.concat instead.\n",
      "  df = df.append(\n"
     ]
    }
   ],
   "source": [
    "for (model, approach), path in configs.items():\n",
    "    with open(path) as f:\n",
    "        results = json.load(f)\n",
    "        df = df.append(\n",
    "            {\n",
    "                \"approach\": approach,\n",
    "                \"model\": model,\n",
    "                \"mc1\": results[f\"total_{tasks[0]}\"],\n",
    "                \"mc2\": results[f\"total_{tasks[1]}\"],\n",
    "                \"mc3\": results[f\"total_{tasks[2]}\"],\n",
    "            },\n",
    "            ignore_index=True,\n",
    "        )\n",
    "\n",
    "df[\"mc1\"] = df[\"mc1\"].astype(float)\n",
    "df[\"mc2\"] = df[\"mc2\"].astype(float)\n",
    "df[\"mc3\"] = df[\"mc3\"].astype(float)"
   ]
  },
  {
   "cell_type": "code",
   "execution_count": 21,
   "metadata": {},
   "outputs": [
    {
     "data": {
      "text/html": [
       "<div>\n",
       "<style scoped>\n",
       "    .dataframe tbody tr th:only-of-type {\n",
       "        vertical-align: middle;\n",
       "    }\n",
       "\n",
       "    .dataframe tbody tr th {\n",
       "        vertical-align: top;\n",
       "    }\n",
       "\n",
       "    .dataframe thead th {\n",
       "        text-align: right;\n",
       "    }\n",
       "</style>\n",
       "<table border=\"1\" class=\"dataframe\">\n",
       "  <thead>\n",
       "    <tr style=\"text-align: right;\">\n",
       "      <th></th>\n",
       "      <th>approach</th>\n",
       "      <th>model</th>\n",
       "      <th>mc1</th>\n",
       "      <th>mc2</th>\n",
       "      <th>mc3</th>\n",
       "    </tr>\n",
       "  </thead>\n",
       "  <tbody>\n",
       "    <tr>\n",
       "      <th>0</th>\n",
       "      <td>baseline</td>\n",
       "      <td>llama-1</td>\n",
       "      <td>0.255814</td>\n",
       "      <td>0.405513</td>\n",
       "      <td>0.191961</td>\n",
       "    </tr>\n",
       "    <tr>\n",
       "      <th>1</th>\n",
       "      <td>baseline</td>\n",
       "      <td>llama-2</td>\n",
       "      <td>0.285190</td>\n",
       "      <td>0.433969</td>\n",
       "      <td>0.207491</td>\n",
       "    </tr>\n",
       "    <tr>\n",
       "      <th>2</th>\n",
       "      <td>dola</td>\n",
       "      <td>llama-1</td>\n",
       "      <td>0.321909</td>\n",
       "      <td>0.637610</td>\n",
       "      <td>0.321381</td>\n",
       "    </tr>\n",
       "    <tr>\n",
       "      <th>3</th>\n",
       "      <td>dola</td>\n",
       "      <td>llama-2</td>\n",
       "      <td>0.312118</td>\n",
       "      <td>0.621351</td>\n",
       "      <td>0.297729</td>\n",
       "    </tr>\n",
       "  </tbody>\n",
       "</table>\n",
       "</div>"
      ],
      "text/plain": [
       "   approach    model       mc1       mc2       mc3\n",
       "0  baseline  llama-1  0.255814  0.405513  0.191961\n",
       "1  baseline  llama-2  0.285190  0.433969  0.207491\n",
       "2      dola  llama-1  0.321909  0.637610  0.321381\n",
       "3      dola  llama-2  0.312118  0.621351  0.297729"
      ]
     },
     "execution_count": 21,
     "metadata": {},
     "output_type": "execute_result"
    }
   ],
   "source": [
    "df"
   ]
  },
  {
   "cell_type": "code",
   "execution_count": null,
   "metadata": {},
   "outputs": [],
   "source": []
  }
 ],
 "metadata": {
  "kernelspec": {
   "display_name": "310",
   "language": "python",
   "name": "python3"
  },
  "language_info": {
   "codemirror_mode": {
    "name": "ipython",
    "version": 3
   },
   "file_extension": ".py",
   "mimetype": "text/x-python",
   "name": "python",
   "nbconvert_exporter": "python",
   "pygments_lexer": "ipython3",
   "version": "3.9.15"
  }
 },
 "nbformat": 4,
 "nbformat_minor": 2
}
